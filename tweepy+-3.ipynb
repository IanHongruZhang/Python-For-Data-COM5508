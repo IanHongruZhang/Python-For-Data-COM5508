{
 "cells": [
  {
   "cell_type": "code",
   "execution_count": 107,
   "metadata": {
    "collapsed": false
   },
   "outputs": [],
   "source": [
    "import tweepy\n",
    "\n",
    "auth = tweepy.OAuthHandler('PcYGyfk0Xrsr7RQmgFefFKqcl', 'VdVUtOGBDajhDBULlHm3KCwXnlmxdldGowG9CjCOP3yhDveoEU')\n",
    "auth.set_access_token('2657160098-4lSShP8CgcOIka2sPBk6iS28Iycl9X6deHc2GP7', 'LrvHFFvTH32CuqI9jaTvDASkPYzg3V5RldPi8h1yo0ALi')\n",
    "\n",
    "api = tweepy.API(auth) #实例化api\n",
    "list_followers = []\n",
    "for item in tweepy.Cursor(api.followers,id = \"vanatteveldt\").items(150):\n",
    "    list_followers.append(item.id)"
   ]
  },
  {
   "cell_type": "code",
   "execution_count": 7,
   "metadata": {
    "collapsed": false
   },
   "outputs": [
    {
     "name": "stdout",
     "output_type": "stream",
     "text": [
      "[29039174, 262981576, 1570339038, 393352440, 156846707, 440645901, 742789639933702144, 778251283, 207421138, 11574542, 392143304, 26491157, 3014393895, 169403525, 248788118, 133321359, 21636417, 16945772, 14341961, 86916436, 92835450, 97162458, 3040699408, 873508771, 114277607, 4515151, 19909693, 180040704, 205280117, 25657150, 15269643, 21587430, 16718994, 112961086, 122405720, 115044261, 119885312, 28076891, 8442592, 193261375, 135469780, 35752351, 57190437, 406438550, 31560768, 6366042, 596773316, 878447816, 19058238, 29354944, 186894716, 16843945, 203512946, 52206988, 16708690, 121743092]\n"
     ]
    }
   ],
   "source": [
    "#list_followers #这货的所有followers\n",
    "his_follows = api.friends_ids(\"vanatteveldt\")\n",
    "print(his_follows)"
   ]
  },
  {
   "cell_type": "code",
   "execution_count": 8,
   "metadata": {
    "collapsed": false
   },
   "outputs": [
    {
     "name": "stdout",
     "output_type": "stream",
     "text": [
      "155724548\n"
     ]
    }
   ],
   "source": [
    "his_id = api.get_user(\"vanatteveldt\").id\n",
    "print(his_id)"
   ]
  },
  {
   "cell_type": "code",
   "execution_count": 10,
   "metadata": {
    "collapsed": false
   },
   "outputs": [
    {
     "data": {
      "text/plain": [
       "[742789639933702144,\n",
       " 180040704,\n",
       " 440645901,\n",
       " 11574542,\n",
       " 3040699408,\n",
       " 778251283,\n",
       " 26491157,\n",
       " 248788118,\n",
       " 873508771,\n",
       " 3014393895,\n",
       " 112961086,\n",
       " 25657150,\n",
       " 596773316,\n",
       " 29039174,\n",
       " 392143304,\n",
       " 14341961,\n",
       " 878447816,\n",
       " 4515151,\n",
       " 122405720,\n",
       " 97162458,\n",
       " 21587430,\n",
       " 114277607,\n",
       " 16945772,\n",
       " 203512946,\n",
       " 121743092,\n",
       " 205280117,\n",
       " 393352440]"
      ]
     },
     "execution_count": 10,
     "metadata": {},
     "output_type": "execute_result"
    }
   ],
   "source": [
    "his_friends = list(set(his_follows) & set(list_followers))\n",
    "his_friends # his_friends"
   ]
  },
  {
   "cell_type": "code",
   "execution_count": 53,
   "metadata": {
    "collapsed": false
   },
   "outputs": [
    {
     "data": {
      "text/plain": [
       "[742789639933702144,\n",
       " 180040704,\n",
       " 440645901,\n",
       " 11574542,\n",
       " 3040699408,\n",
       " 778251283,\n",
       " 26491157,\n",
       " 248788118,\n",
       " 873508771,\n",
       " 3014393895]"
      ]
     },
     "execution_count": 53,
     "metadata": {},
     "output_type": "execute_result"
    }
   ],
   "source": [
    "dict_a = {his_id : his_friends[0:10]}\n",
    "his_friends_s = his_friends[0:10]\n",
    "his_friends_s"
   ]
  },
  {
   "cell_type": "code",
   "execution_count": 46,
   "metadata": {
    "collapsed": false
   },
   "outputs": [],
   "source": [
    "dict_b = {}\n",
    "list_f = []\n",
    "friends_id = []\n",
    "for item in his_friends_s:\n",
    "    friends_id = api.friends_ids(item)\n",
    "    list_f.extend(friends_id)\n",
    "    dict_b[item] = list_f"
   ]
  },
  {
   "cell_type": "code",
   "execution_count": 47,
   "metadata": {
    "collapsed": false
   },
   "outputs": [
    {
     "data": {
      "text/plain": [
       "[742789639933702144,\n",
       " 440645901,\n",
       " 11574542,\n",
       " 778251283,\n",
       " 26491157,\n",
       " 248788118,\n",
       " 873508771,\n",
       " 3014393895,\n",
       " 112961086,\n",
       " 596773316,\n",
       " 29039174,\n",
       " 392143304,\n",
       " 14341961,\n",
       " 4515151,\n",
       " 122405720,\n",
       " 97162458,\n",
       " 21587430,\n",
       " 114277607,\n",
       " 16945772,\n",
       " 121743092,\n",
       " 205280117,\n",
       " 393352440]"
      ]
     },
     "execution_count": 47,
     "metadata": {},
     "output_type": "execute_result"
    }
   ],
   "source": [
    "list_b = list(set(his_friends) & set(list_f))\n",
    "list_b"
   ]
  },
  {
   "cell_type": "code",
   "execution_count": 92,
   "metadata": {
    "collapsed": false
   },
   "outputs": [],
   "source": [
    "dict_c = {}\n",
    "dict_c = {his_id : list_b}\n",
    "dictMerged=dict_a.copy()\n",
    "dictMerged.update(dict_c)"
   ]
  },
  {
   "cell_type": "code",
   "execution_count": 97,
   "metadata": {
    "collapsed": false
   },
   "outputs": [
    {
     "data": {
      "text/plain": [
       "{155724548: [742789639933702144,\n",
       "  440645901,\n",
       "  11574542,\n",
       "  778251283,\n",
       "  26491157,\n",
       "  248788118,\n",
       "  873508771,\n",
       "  3014393895,\n",
       "  112961086,\n",
       "  596773316,\n",
       "  29039174,\n",
       "  392143304,\n",
       "  14341961,\n",
       "  4515151,\n",
       "  122405720,\n",
       "  97162458,\n",
       "  21587430,\n",
       "  114277607,\n",
       "  16945772,\n",
       "  121743092,\n",
       "  205280117,\n",
       "  393352440]}"
      ]
     },
     "execution_count": 97,
     "metadata": {},
     "output_type": "execute_result"
    }
   ],
   "source": [
    "dictMerged"
   ]
  },
  {
   "cell_type": "code",
   "execution_count": 108,
   "metadata": {
    "collapsed": false
   },
   "outputs": [],
   "source": [
    "dict_f = {}\n",
    "dict_d = {}\n",
    "for item in his_friends_s[0:10]:\n",
    "    friends_id = api.friends_ids(item)\n",
    "    friends_id_list = list(set(friends_id) & set(his_friends))\n",
    "    dict_d = {item:friends_id_list}\n",
    "    dict_e = dict_d.copy()\n",
    "    dict_f.update(dict_d)"
   ]
  },
  {
   "cell_type": "code",
   "execution_count": 109,
   "metadata": {
    "collapsed": false
   },
   "outputs": [],
   "source": [
    "dictMerged_2 = dictMerged.copy()\n",
    "dictMerged_2.update(dict_f)"
   ]
  },
  {
   "cell_type": "code",
   "execution_count": 110,
   "metadata": {
    "collapsed": false
   },
   "outputs": [],
   "source": [
    "list_total = []\n",
    "for key,value in dictMerged_2.items():\n",
    "    for i in value:        \n",
    "        list_total.append((str(key),str(i)))"
   ]
  },
  {
   "cell_type": "code",
   "execution_count": 112,
   "metadata": {
    "collapsed": false
   },
   "outputs": [
    {
     "data": {
      "text/plain": [
       "[('742789639933702144', '393352440'),\n",
       " ('742789639933702144', '440645901'),\n",
       " ('180040704', '16945772'),\n",
       " ('180040704', '26491157'),\n",
       " ('180040704', '29039174'),\n",
       " ('873508771', '122405720'),\n",
       " ('155724548', '742789639933702144'),\n",
       " ('155724548', '440645901'),\n",
       " ('155724548', '11574542'),\n",
       " ('155724548', '778251283'),\n",
       " ('155724548', '26491157'),\n",
       " ('155724548', '248788118'),\n",
       " ('155724548', '873508771'),\n",
       " ('155724548', '3014393895'),\n",
       " ('155724548', '112961086'),\n",
       " ('155724548', '596773316'),\n",
       " ('155724548', '29039174'),\n",
       " ('155724548', '392143304'),\n",
       " ('155724548', '14341961'),\n",
       " ('155724548', '4515151'),\n",
       " ('155724548', '122405720'),\n",
       " ('155724548', '97162458'),\n",
       " ('155724548', '21587430'),\n",
       " ('155724548', '114277607'),\n",
       " ('155724548', '16945772'),\n",
       " ('155724548', '121743092'),\n",
       " ('155724548', '205280117'),\n",
       " ('155724548', '393352440'),\n",
       " ('3014393895', '392143304'),\n",
       " ('3014393895', '778251283'),\n",
       " ('3014393895', '112961086'),\n",
       " ('3014393895', '4515151'),\n",
       " ('440645901', '742789639933702144'),\n",
       " ('440645901', '596773316'),\n",
       " ('11574542', '114277607'),\n",
       " ('11574542', '14341961'),\n",
       " ('11574542', '16945772'),\n",
       " ('11574542', '121743092'),\n",
       " ('11574542', '248788118'),\n",
       " ('11574542', '122405720'),\n",
       " ('3040699408', '122405720'),\n",
       " ('3040699408', '97162458'),\n",
       " ('3040699408', '873508771'),\n",
       " ('778251283', '392143304'),\n",
       " ('778251283', '4515151'),\n",
       " ('778251283', '21587430'),\n",
       " ('778251283', '112961086'),\n",
       " ('778251283', '3014393895'),\n",
       " ('26491157', '114277607'),\n",
       " ('248788118', '205280117'),\n",
       " ('248788118', '16945772'),\n",
       " ('248788118', '26491157'),\n",
       " ('248788118', '11574542'),\n",
       " ('248788118', '114277607')]"
      ]
     },
     "execution_count": 112,
     "metadata": {},
     "output_type": "execute_result"
    }
   ],
   "source": [
    "list_total"
   ]
  },
  {
   "cell_type": "code",
   "execution_count": 113,
   "metadata": {
    "collapsed": true
   },
   "outputs": [],
   "source": [
    "import networkx as nx\n",
    "import matplotlib.pyplot as plt\n",
    "\n",
    "G = nx.Graph()\n",
    "G.add_edges_from(list_total)"
   ]
  },
  {
   "cell_type": "code",
   "execution_count": 114,
   "metadata": {
    "collapsed": false
   },
   "outputs": [
    {
     "data": {
      "image/png": "[encoded data removed]",
      "text/plain": [
       "<matplotlib.figure.Figure at 0x1104f3dd8>"
      ]
     },
     "metadata": {},
     "output_type": "display_data"
    }
   ],
   "source": [
    "pos = nx.spring_layout\n",
    "nx.draw_spring(G,node_size = 20)\n",
    "plt.show()"
   ]
  },
  {
   "cell_type": "code",
   "execution_count": 115,
   "metadata": {
    "collapsed": false
   },
   "outputs": [
    {
     "data": {
      "text/plain": [
       "54"
      ]
     },
     "execution_count": 115,
     "metadata": {},
     "output_type": "execute_result"
    }
   ],
   "source": [
    "len(list_total)"
   ]
  },
  {
   "cell_type": "code",
   "execution_count": null,
   "metadata": {
    "collapsed": false
   },
   "outputs": [],
   "source": []
  },
  {
   "cell_type": "code",
   "execution_count": null,
   "metadata": {
    "collapsed": true
   },
   "outputs": [],
   "source": []
  }
 ],
 "metadata": {
  "anaconda-cloud": {},
  "kernelspec": {
   "display_name": "Python [default]",
   "language": "python",
   "name": "python3"
  },
  "language_info": {
   "codemirror_mode": {
    "name": "ipython",
    "version": 3
   },
   "file_extension": ".py",
   "mimetype": "text/x-python",
   "name": "python",
   "nbconvert_exporter": "python",
   "pygments_lexer": "ipython3",
   "version": "3.5.2"
  }
 },
 "nbformat": 4,
 "nbformat_minor": 1
}
